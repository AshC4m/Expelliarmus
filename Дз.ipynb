{
  "nbformat": 4,
  "nbformat_minor": 0,
  "metadata": {
    "colab": {
      "provenance": [],
      "collapsed_sections": [],
      "authorship_tag": "ABX9TyMz/g8ZiEOe686Cb+pQP9zn",
      "include_colab_link": true
    },
    "kernelspec": {
      "name": "python3",
      "display_name": "Python 3"
    },
    "language_info": {
      "name": "python"
    }
  },
  "cells": [
    {
      "cell_type": "markdown",
      "metadata": {
        "id": "view-in-github",
        "colab_type": "text"
      },
      "source": [
        "<a href=\"https://colab.research.google.com/github/AshC4m/Expelliarmus/blob/main/%D0%94%D0%B7.ipynb\" target=\"_parent\"><img src=\"https://colab.research.google.com/assets/colab-badge.svg\" alt=\"Open In Colab\"/></a>"
      ]
    },
    {
      "cell_type": "code",
      "execution_count": 2,
      "metadata": {
        "colab": {
          "base_uri": "https://localhost:8080/"
        },
        "id": "sqoCqxxXBoXv",
        "outputId": "ff2a82d2-7ad9-492c-8d56-2f0292996218"
      },
      "outputs": [
        {
          "output_type": "stream",
          "name": "stdout",
          "text": [
            "Введите номер города:1\n",
            "Население города Москва - 12635 тысяч человек\n",
            "Общий размер населения - 19187 тысяч человек\n"
          ]
        }
      ],
      "source": [
        "\n",
        "city = [\"Москва\", \"Питер\", \"Самара\"] \n",
        "ppl = [12635, 5380, 1172]\n",
        "num = int(input('Введите номер города:')) - 1\n",
        "print(f\"Население города {city[num]} - {ppl[num]} тысяч человек\")\n",
        "allppl = 0\n",
        "for i in ppl:\n",
        "  allppl = allppl + int(i)\n",
        "print(f\"Общий размер населения - {allppl} тысяч человек\")"
      ]
    }
  ]
}